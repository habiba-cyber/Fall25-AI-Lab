{
 "cells": [
  {
   "cell_type": "markdown",
   "id": "dd6999df",
   "metadata": {},
   "source": [
    "## Name: Habiba Roman\n",
    "## Roll No: 183\n",
    "## Task # 6\n",
    "## BSAI_3C\n",
    "## AI_Lab (Artificial Intelligence)"
   ]
  },
  {
   "cell_type": "code",
   "execution_count": null,
   "id": "1b8e47ef",
   "metadata": {},
   "outputs": [
    {
     "name": "stdout",
     "output_type": "stream",
     "text": [
      "['A', 'B', 'C', 'D', 'G', 'H', 'E', 'F', 'I', 'L', 'J', 'K', 'M']\n"
     ]
    }
   ],
   "source": [
    "# With queue\n",
    "def bfs_queue(graph, start):\n",
    "    visit = set()\n",
    "    queue = [start]\n",
    "    result = []\n",
    "\n",
    "    while queue:\n",
    "        node = queue.pop(0) \n",
    "        if node not in visit:\n",
    "            result.append(node)\n",
    "            visit.add(node)\n",
    "            queue.extend(graph[node])\n",
    "    \n",
    "    return result\n",
    "\n",
    "\n",
    "graph = {\n",
    "    'A': ['B', 'C'],\n",
    "    'B': ['D', 'G', 'H'],\n",
    "    'C': ['E', 'F'],\n",
    "    'D': ['G', 'H'],\n",
    "    'E': [],\n",
    "    'F': ['J', 'K'],\n",
    "    'G': ['I'],\n",
    "    'H': ['L'],\n",
    "    'I': [],\n",
    "    'J': [],\n",
    "    'K': [],\n",
    "    'L': ['M'],\n",
    "    'M': []\n",
    "}\n",
    "\n",
    "s = bfs_queue(graph, 'A')\n",
    "print(s)"
   ]
  },
  {
   "cell_type": "code",
   "execution_count": 1,
   "id": "731b200d",
   "metadata": {},
   "outputs": [
    {
     "name": "stdout",
     "output_type": "stream",
     "text": [
      "['A', 'B', 'C', 'D', 'G', 'H', 'E', 'F', 'I', 'L', 'J', 'K', 'M']\n"
     ]
    }
   ],
   "source": [
    "# without queue\n",
    "def bfs_recursive(graph, current_level, seen, order):\n",
    "    if not current_level:\n",
    "        return\n",
    "\n",
    "    next_level = []\n",
    "    for node in current_level:\n",
    "        if node not in seen:\n",
    "            order.append(node)\n",
    "            seen.add(node)\n",
    "            next_level.extend(graph[node])\n",
    "    \n",
    "    bfs_recursive(graph, next_level, seen, order)\n",
    "\n",
    "\n",
    "def bfs(graph, start):\n",
    "    seen = set()\n",
    "    order = []\n",
    "    bfs_recursive(graph, [start], seen, order)\n",
    "    return order\n",
    "\n",
    "\n",
    "graph = {\n",
    "    'A': ['B', 'C'],\n",
    "    'B': ['D', 'G', 'H'],\n",
    "    'C': ['E', 'F'],\n",
    "    'D': ['G', 'H'],\n",
    "    'E': [],\n",
    "    'F': ['J', 'K'],\n",
    "    'G': ['I'],\n",
    "    'H': ['L'],\n",
    "    'I': [],\n",
    "    'J': [],\n",
    "    'K': [],\n",
    "    'L': ['M'],\n",
    "    'M': []\n",
    "}\n",
    "\n",
    "s = bfs(graph, 'A')\n",
    "print(s)\n"
   ]
  }
 ],
 "metadata": {
  "kernelspec": {
   "display_name": "base",
   "language": "python",
   "name": "python3"
  },
  "language_info": {
   "codemirror_mode": {
    "name": "ipython",
    "version": 3
   },
   "file_extension": ".py",
   "mimetype": "text/x-python",
   "name": "python",
   "nbconvert_exporter": "python",
   "pygments_lexer": "ipython3",
   "version": "3.12.4"
  }
 },
 "nbformat": 4,
 "nbformat_minor": 5
}
