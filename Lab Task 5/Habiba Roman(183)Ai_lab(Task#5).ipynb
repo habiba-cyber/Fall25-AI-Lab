{
 "cells": [
  {
   "cell_type": "markdown",
   "id": "14bd9d1f",
   "metadata": {},
   "source": [
    "## Name: Habiba Roman\n",
    "## Roll No: 183\n",
    "## Task # 5\n",
    "## BSAI_3C\n",
    "## AI_Lab (Artificial Intelligence)"
   ]
  },
  {
   "cell_type": "code",
   "execution_count": null,
   "id": "434fffec",
   "metadata": {},
   "outputs": [
    {
     "name": "stdout",
     "output_type": "stream",
     "text": [
      "['A', 'C', 'F', 'K', 'J', 'E', 'B', 'H', 'L', 'M', 'G', 'I', 'D']\n"
     ]
    }
   ],
   "source": [
    "def dfs_stack(graph, start):\n",
    "    visit = set()\n",
    "    stack = [start]\n",
    "    result = []\n",
    "\n",
    "    while stack:\n",
    "        node = stack.pop()\n",
    "        if node not in visit:\n",
    "            result.append(node)\n",
    "            visit.add(node)\n",
    "            stack.extend(reversed(graph[node]))\n",
    "    \n",
    "    return result\n",
    "\n",
    "graph = {\n",
    "    'A': ['B', 'C'],\n",
    "    'B': ['D', 'G', 'H'],\n",
    "    'C': ['E', 'F'],\n",
    "    'D': ['G', 'H'],\n",
    "    'E': [],\n",
    "    'F': ['J', 'K'],\n",
    "    'G': ['I'],\n",
    "    'H': ['L'],\n",
    "    'I': [],\n",
    "    'J': [],\n",
    "    'K': [],\n",
    "    'L': ['M'],\n",
    "    'M': []\n",
    "}\n",
    "\n",
    "s = dfs_stack(graph, 'A')\n",
    "print(s)\n"
   ]
  }
 ],
 "metadata": {
  "kernelspec": {
   "display_name": "base",
   "language": "python",
   "name": "python3"
  },
  "language_info": {
   "codemirror_mode": {
    "name": "ipython",
    "version": 3
   },
   "file_extension": ".py",
   "mimetype": "text/x-python",
   "name": "python",
   "nbconvert_exporter": "python",
   "pygments_lexer": "ipython3",
   "version": "3.12.4"
  }
 },
 "nbformat": 4,
 "nbformat_minor": 5
}
