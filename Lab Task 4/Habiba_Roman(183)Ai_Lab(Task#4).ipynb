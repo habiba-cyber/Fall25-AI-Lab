{
 "cells": [
  {
   "cell_type": "markdown",
   "id": "fcc814e6",
   "metadata": {},
   "source": [
    "## Name: Habiba Roman\n",
    "## Roll No: 183\n",
    "## Task # 4\n",
    "## BSAI_3C\n",
    "## AI_Lab (Artificial Intelligence)"
   ]
  },
  {
   "cell_type": "code",
   "execution_count": 1,
   "id": "420e88ee",
   "metadata": {},
   "outputs": [
    {
     "name": "stdout",
     "output_type": "stream",
     "text": [
      "Congratulations!! The card number is valid according to Luhn Algorithm\n"
     ]
    }
   ],
   "source": [
    "# Task # 1\n",
    "\n",
    "def luhn_num(num):\n",
    "    arrange = [int(x) for x in str(num)]\n",
    "    ending_value = arrange.pop()\n",
    "    arrange.reverse()\n",
    "\n",
    "    for i in range(0, len(arrange), 2):\n",
    "        arrange[i] *= 2\n",
    "        if arrange[i] > 9:\n",
    "            arrange[i] -= 9\n",
    "\n",
    "    final_sum = sum(arrange) + ending_value\n",
    "    return final_sum % 10 == 0\n",
    "\n",
    "\n",
    "s = \"5893804115457289\"\n",
    "if luhn_num(s):\n",
    "    print(\"Congratulations!! The card number is valid according to Luhn Algorithm\")\n",
    "else:\n",
    "    print(\"Oops!! The card number invalid according to Luhn Algorithm, please recheck it\")"
   ]
  },
  {
   "cell_type": "code",
   "execution_count": 2,
   "id": "3047b0d2",
   "metadata": {},
   "outputs": [
    {
     "name": "stdout",
     "output_type": "stream",
     "text": [
      "Previous Text: Kuch Bhi ; Kuch, Bhi!\n",
      "Cleaned special characters : Kuch Bhi  Kuch Bhi\n"
     ]
    }
   ],
   "source": [
    "# Task # 2\n",
    "\n",
    "def finish_specials(txt):\n",
    "    clean_txt = \"\"\n",
    "    for symbol in txt:\n",
    "        if symbol.isalnum() or symbol.isspace():\n",
    "            clean_txt += symbol\n",
    "    return clean_txt\n",
    "\n",
    "s = \"Kuch Bhi ; Kuch, Bhi!\"\n",
    "output = finish_specials(s)\n",
    "print(\"Previous Text:\", s)\n",
    "print(\"Cleaned special characters :\", output)"
   ]
  },
  {
   "cell_type": "code",
   "execution_count": 7,
   "id": "d8a52421",
   "metadata": {},
   "outputs": [
    {
     "name": "stdout",
     "output_type": "stream",
     "text": [
      "Sorted by characters: aaaabceehlnnpprry\n",
      "Sorted by words: apple banana cherry\n"
     ]
    }
   ],
   "source": [
    "# Task # 3\n",
    "\n",
    "def sort(arr):\n",
    "    n = len(arr)\n",
    "    for i in range(n):\n",
    "        for j in range(0, n - i - 1):\n",
    "            if arr[j] > arr[j + 1]:\n",
    "                arr[j], arr[j + 1] = arr[j + 1], arr[j]\n",
    "    return arr\n",
    "\n",
    "s = input(\"Enter a string: \")\n",
    "\n",
    "chars = list(s.replace(\" \", \"\"))\n",
    "sorted_chars = sort(chars)\n",
    "print(\"Sorted by characters:\", \"\".join(sorted_chars))\n",
    "\n",
    "words = s.split()\n",
    "sorted_words = sort(words)\n",
    "print(\"Sorted by words:\", \" \".join(sorted_words))\n"
   ]
  }
 ],
 "metadata": {
  "kernelspec": {
   "display_name": "base",
   "language": "python",
   "name": "python3"
  },
  "language_info": {
   "codemirror_mode": {
    "name": "ipython",
    "version": 3
   },
   "file_extension": ".py",
   "mimetype": "text/x-python",
   "name": "python",
   "nbconvert_exporter": "python",
   "pygments_lexer": "ipython3",
   "version": "3.12.4"
  }
 },
 "nbformat": 4,
 "nbformat_minor": 5
}
